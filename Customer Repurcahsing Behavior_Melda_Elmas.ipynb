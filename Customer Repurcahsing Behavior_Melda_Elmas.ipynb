{
 "cells": [
  {
   "cell_type": "markdown",
   "id": "d1888fdf-8105-4869-b80f-3eaa360b1c45",
   "metadata": {},
   "source": [
    "# Project Summary: Predicting Customer Repurchase Likelihood\n"
   ]
  },
  {
   "cell_type": "markdown",
   "id": "4715bd37-3686-4bae-b5df-eff781314872",
   "metadata": {},
   "source": [
    "## Project Objective\n",
    "\n",
    "The goal of this project was to build a machine learning model to predict the likelihood of a customer making a repeat purchase. The \"repurchased\" column served as the target variable, indicating whether a customer made additional purchases after their initial one.\n",
    "\n",
    "\n",
    "## Key Features Used\n",
    "\n",
    "#####  number_of_customer_support_cases: Number of times a customer contacted customer support.\n",
    "\n",
    "##### is_newsletter_subscriber: Indicates whether a customer subscribed to the newsletter (1-yes, 0-no).\n",
    "\n",
    "##### apparel_purchased: Indicates if a customer also purchased apparel (1-yes, 0-no).\n",
    "\n",
    "##### accessories_purchased: Indicates if a customer also purchased accessories (1-yes, 0-no).\n",
    "\n",
    "##### ecom_limited_edition_purchased: Indicates if a customer purchased limited edition products (1-yes, 0-no).\n",
    "\n",
    "##### is_subscribed_to_cyclon: Indicates if a customer subscribed to a subscription-based running shoes product (1-yes, 0-no).\n",
    "\n",
    "##### total_revenue: The total amount of money a customer spent.\n",
    "\n",
    "##### quantity_rma: Number of products a customer returned after purchase.\n",
    "\n",
    "##### days_since_last_purchase: Number of days since the customer last made a purchase.\n",
    "\n",
    "##### country: Customer's country, which was OneHotEncoded for the model.\n"
   ]
  },
  {
   "cell_type": "markdown",
   "id": "f5e26d8b-738b-4c73-8817-f59c48f32205",
   "metadata": {},
   "source": [
    "## Importing libraires"
   ]
  },
  {
   "cell_type": "code",
   "execution_count": 1,
   "id": "d928dfda-3af6-4048-b1cf-42a3d7580702",
   "metadata": {},
   "outputs": [],
   "source": [
    "import pandas as pd\n",
    "import numpy as np\n",
    "from sklearn.preprocessing import OneHotEncoder, StandardScaler, LabelEncoder\n",
    "from sklearn.model_selection import train_test_split\n",
    "from sklearn.linear_model import LogisticRegression\n",
    "from sklearn.metrics import classification_report, roc_auc_score, precision_recall_curve, roc_curve\n",
    "import matplotlib.pyplot as plt\n",
    "import seaborn as sns"
   ]
  },
  {
   "cell_type": "code",
   "execution_count": 2,
   "id": "b82a2fdd-fed2-4ea7-abfa-fdb5f4cbed4a",
   "metadata": {},
   "outputs": [],
   "source": [
    "df = pd.read_csv(\"data_science_internship_assignment_input_data.csv\")"
   ]
  },
  {
   "cell_type": "code",
   "execution_count": 3,
   "id": "ded17be8-a7a1-4ab6-98da-0aac83d6c174",
   "metadata": {},
   "outputs": [
    {
     "data": {
      "text/html": [
       "<div>\n",
       "<style scoped>\n",
       "    .dataframe tbody tr th:only-of-type {\n",
       "        vertical-align: middle;\n",
       "    }\n",
       "\n",
       "    .dataframe tbody tr th {\n",
       "        vertical-align: top;\n",
       "    }\n",
       "\n",
       "    .dataframe thead th {\n",
       "        text-align: right;\n",
       "    }\n",
       "</style>\n",
       "<table border=\"1\" class=\"dataframe\">\n",
       "  <thead>\n",
       "    <tr style=\"text-align: right;\">\n",
       "      <th></th>\n",
       "      <th>uid</th>\n",
       "      <th>number_of_customer_support_cases</th>\n",
       "      <th>is_newsletter_subscriber</th>\n",
       "      <th>apparel_purchased</th>\n",
       "      <th>accessories_purchased</th>\n",
       "      <th>ecom_limited_edition_purchased</th>\n",
       "      <th>is_subscribed_to_cyclon</th>\n",
       "      <th>total_revenue</th>\n",
       "      <th>quantity_rma</th>\n",
       "      <th>country</th>\n",
       "      <th>days_since_last_purchase</th>\n",
       "      <th>repurchased</th>\n",
       "    </tr>\n",
       "  </thead>\n",
       "  <tbody>\n",
       "    <tr>\n",
       "      <th>0</th>\n",
       "      <td>5</td>\n",
       "      <td>0</td>\n",
       "      <td>1</td>\n",
       "      <td>0</td>\n",
       "      <td>0</td>\n",
       "      <td>0</td>\n",
       "      <td>0</td>\n",
       "      <td>282</td>\n",
       "      <td>0</td>\n",
       "      <td>United States</td>\n",
       "      <td>46</td>\n",
       "      <td>1</td>\n",
       "    </tr>\n",
       "    <tr>\n",
       "      <th>1</th>\n",
       "      <td>16</td>\n",
       "      <td>0</td>\n",
       "      <td>1</td>\n",
       "      <td>0</td>\n",
       "      <td>0</td>\n",
       "      <td>0</td>\n",
       "      <td>0</td>\n",
       "      <td>270</td>\n",
       "      <td>0</td>\n",
       "      <td>United States</td>\n",
       "      <td>29</td>\n",
       "      <td>1</td>\n",
       "    </tr>\n",
       "    <tr>\n",
       "      <th>2</th>\n",
       "      <td>37</td>\n",
       "      <td>0</td>\n",
       "      <td>0</td>\n",
       "      <td>1</td>\n",
       "      <td>1</td>\n",
       "      <td>0</td>\n",
       "      <td>0</td>\n",
       "      <td>581</td>\n",
       "      <td>0</td>\n",
       "      <td>Australia</td>\n",
       "      <td>97</td>\n",
       "      <td>1</td>\n",
       "    </tr>\n",
       "    <tr>\n",
       "      <th>3</th>\n",
       "      <td>55</td>\n",
       "      <td>0</td>\n",
       "      <td>1</td>\n",
       "      <td>0</td>\n",
       "      <td>0</td>\n",
       "      <td>0</td>\n",
       "      <td>0</td>\n",
       "      <td>107</td>\n",
       "      <td>0</td>\n",
       "      <td>Japan</td>\n",
       "      <td>218</td>\n",
       "      <td>0</td>\n",
       "    </tr>\n",
       "    <tr>\n",
       "      <th>4</th>\n",
       "      <td>80</td>\n",
       "      <td>0</td>\n",
       "      <td>0</td>\n",
       "      <td>0</td>\n",
       "      <td>0</td>\n",
       "      <td>0</td>\n",
       "      <td>0</td>\n",
       "      <td>97</td>\n",
       "      <td>0</td>\n",
       "      <td>United States</td>\n",
       "      <td>219</td>\n",
       "      <td>0</td>\n",
       "    </tr>\n",
       "    <tr>\n",
       "      <th>...</th>\n",
       "      <td>...</td>\n",
       "      <td>...</td>\n",
       "      <td>...</td>\n",
       "      <td>...</td>\n",
       "      <td>...</td>\n",
       "      <td>...</td>\n",
       "      <td>...</td>\n",
       "      <td>...</td>\n",
       "      <td>...</td>\n",
       "      <td>...</td>\n",
       "      <td>...</td>\n",
       "      <td>...</td>\n",
       "    </tr>\n",
       "    <tr>\n",
       "      <th>9943</th>\n",
       "      <td>99976</td>\n",
       "      <td>4</td>\n",
       "      <td>1</td>\n",
       "      <td>0</td>\n",
       "      <td>0</td>\n",
       "      <td>0</td>\n",
       "      <td>0</td>\n",
       "      <td>388</td>\n",
       "      <td>0</td>\n",
       "      <td>Other Ecom EU</td>\n",
       "      <td>777</td>\n",
       "      <td>1</td>\n",
       "    </tr>\n",
       "    <tr>\n",
       "      <th>9944</th>\n",
       "      <td>99977</td>\n",
       "      <td>2</td>\n",
       "      <td>1</td>\n",
       "      <td>0</td>\n",
       "      <td>0</td>\n",
       "      <td>0</td>\n",
       "      <td>0</td>\n",
       "      <td>692</td>\n",
       "      <td>0</td>\n",
       "      <td>United States</td>\n",
       "      <td>124</td>\n",
       "      <td>1</td>\n",
       "    </tr>\n",
       "    <tr>\n",
       "      <th>9945</th>\n",
       "      <td>99987</td>\n",
       "      <td>1</td>\n",
       "      <td>0</td>\n",
       "      <td>1</td>\n",
       "      <td>1</td>\n",
       "      <td>0</td>\n",
       "      <td>0</td>\n",
       "      <td>436</td>\n",
       "      <td>2</td>\n",
       "      <td>United Kingdom</td>\n",
       "      <td>306</td>\n",
       "      <td>1</td>\n",
       "    </tr>\n",
       "    <tr>\n",
       "      <th>9946</th>\n",
       "      <td>99989</td>\n",
       "      <td>0</td>\n",
       "      <td>1</td>\n",
       "      <td>0</td>\n",
       "      <td>0</td>\n",
       "      <td>0</td>\n",
       "      <td>0</td>\n",
       "      <td>308</td>\n",
       "      <td>0</td>\n",
       "      <td>United States</td>\n",
       "      <td>18</td>\n",
       "      <td>1</td>\n",
       "    </tr>\n",
       "    <tr>\n",
       "      <th>9947</th>\n",
       "      <td>99995</td>\n",
       "      <td>1</td>\n",
       "      <td>0</td>\n",
       "      <td>0</td>\n",
       "      <td>0</td>\n",
       "      <td>0</td>\n",
       "      <td>0</td>\n",
       "      <td>231</td>\n",
       "      <td>0</td>\n",
       "      <td>United Kingdom</td>\n",
       "      <td>23</td>\n",
       "      <td>1</td>\n",
       "    </tr>\n",
       "  </tbody>\n",
       "</table>\n",
       "<p>9948 rows × 12 columns</p>\n",
       "</div>"
      ],
      "text/plain": [
       "        uid  number_of_customer_support_cases  is_newsletter_subscriber  \\\n",
       "0         5                                 0                         1   \n",
       "1        16                                 0                         1   \n",
       "2        37                                 0                         0   \n",
       "3        55                                 0                         1   \n",
       "4        80                                 0                         0   \n",
       "...     ...                               ...                       ...   \n",
       "9943  99976                                 4                         1   \n",
       "9944  99977                                 2                         1   \n",
       "9945  99987                                 1                         0   \n",
       "9946  99989                                 0                         1   \n",
       "9947  99995                                 1                         0   \n",
       "\n",
       "      apparel_purchased  accessories_purchased  \\\n",
       "0                     0                      0   \n",
       "1                     0                      0   \n",
       "2                     1                      1   \n",
       "3                     0                      0   \n",
       "4                     0                      0   \n",
       "...                 ...                    ...   \n",
       "9943                  0                      0   \n",
       "9944                  0                      0   \n",
       "9945                  1                      1   \n",
       "9946                  0                      0   \n",
       "9947                  0                      0   \n",
       "\n",
       "      ecom_limited_edition_purchased  is_subscribed_to_cyclon  total_revenue  \\\n",
       "0                                  0                        0            282   \n",
       "1                                  0                        0            270   \n",
       "2                                  0                        0            581   \n",
       "3                                  0                        0            107   \n",
       "4                                  0                        0             97   \n",
       "...                              ...                      ...            ...   \n",
       "9943                               0                        0            388   \n",
       "9944                               0                        0            692   \n",
       "9945                               0                        0            436   \n",
       "9946                               0                        0            308   \n",
       "9947                               0                        0            231   \n",
       "\n",
       "      quantity_rma         country  days_since_last_purchase  repurchased  \n",
       "0                0   United States                        46            1  \n",
       "1                0   United States                        29            1  \n",
       "2                0       Australia                        97            1  \n",
       "3                0           Japan                       218            0  \n",
       "4                0   United States                       219            0  \n",
       "...            ...             ...                       ...          ...  \n",
       "9943             0   Other Ecom EU                       777            1  \n",
       "9944             0   United States                       124            1  \n",
       "9945             2  United Kingdom                       306            1  \n",
       "9946             0   United States                        18            1  \n",
       "9947             0  United Kingdom                        23            1  \n",
       "\n",
       "[9948 rows x 12 columns]"
      ]
     },
     "execution_count": 3,
     "metadata": {},
     "output_type": "execute_result"
    }
   ],
   "source": [
    "df"
   ]
  },
  {
   "cell_type": "code",
   "execution_count": 4,
   "id": "7be0976e-1fcb-4d6c-8758-78457ef8a02f",
   "metadata": {},
   "outputs": [
    {
     "data": {
      "text/html": [
       "<div>\n",
       "<style scoped>\n",
       "    .dataframe tbody tr th:only-of-type {\n",
       "        vertical-align: middle;\n",
       "    }\n",
       "\n",
       "    .dataframe tbody tr th {\n",
       "        vertical-align: top;\n",
       "    }\n",
       "\n",
       "    .dataframe thead th {\n",
       "        text-align: right;\n",
       "    }\n",
       "</style>\n",
       "<table border=\"1\" class=\"dataframe\">\n",
       "  <thead>\n",
       "    <tr style=\"text-align: right;\">\n",
       "      <th></th>\n",
       "      <th>uid</th>\n",
       "      <th>number_of_customer_support_cases</th>\n",
       "      <th>is_newsletter_subscriber</th>\n",
       "      <th>apparel_purchased</th>\n",
       "      <th>accessories_purchased</th>\n",
       "      <th>ecom_limited_edition_purchased</th>\n",
       "      <th>is_subscribed_to_cyclon</th>\n",
       "      <th>total_revenue</th>\n",
       "      <th>quantity_rma</th>\n",
       "      <th>country</th>\n",
       "      <th>days_since_last_purchase</th>\n",
       "      <th>repurchased</th>\n",
       "    </tr>\n",
       "  </thead>\n",
       "  <tbody>\n",
       "    <tr>\n",
       "      <th>0</th>\n",
       "      <td>5</td>\n",
       "      <td>0</td>\n",
       "      <td>1</td>\n",
       "      <td>0</td>\n",
       "      <td>0</td>\n",
       "      <td>0</td>\n",
       "      <td>0</td>\n",
       "      <td>282</td>\n",
       "      <td>0</td>\n",
       "      <td>United States</td>\n",
       "      <td>46</td>\n",
       "      <td>1</td>\n",
       "    </tr>\n",
       "    <tr>\n",
       "      <th>1</th>\n",
       "      <td>16</td>\n",
       "      <td>0</td>\n",
       "      <td>1</td>\n",
       "      <td>0</td>\n",
       "      <td>0</td>\n",
       "      <td>0</td>\n",
       "      <td>0</td>\n",
       "      <td>270</td>\n",
       "      <td>0</td>\n",
       "      <td>United States</td>\n",
       "      <td>29</td>\n",
       "      <td>1</td>\n",
       "    </tr>\n",
       "    <tr>\n",
       "      <th>2</th>\n",
       "      <td>37</td>\n",
       "      <td>0</td>\n",
       "      <td>0</td>\n",
       "      <td>1</td>\n",
       "      <td>1</td>\n",
       "      <td>0</td>\n",
       "      <td>0</td>\n",
       "      <td>581</td>\n",
       "      <td>0</td>\n",
       "      <td>Australia</td>\n",
       "      <td>97</td>\n",
       "      <td>1</td>\n",
       "    </tr>\n",
       "    <tr>\n",
       "      <th>3</th>\n",
       "      <td>55</td>\n",
       "      <td>0</td>\n",
       "      <td>1</td>\n",
       "      <td>0</td>\n",
       "      <td>0</td>\n",
       "      <td>0</td>\n",
       "      <td>0</td>\n",
       "      <td>107</td>\n",
       "      <td>0</td>\n",
       "      <td>Japan</td>\n",
       "      <td>218</td>\n",
       "      <td>0</td>\n",
       "    </tr>\n",
       "    <tr>\n",
       "      <th>4</th>\n",
       "      <td>80</td>\n",
       "      <td>0</td>\n",
       "      <td>0</td>\n",
       "      <td>0</td>\n",
       "      <td>0</td>\n",
       "      <td>0</td>\n",
       "      <td>0</td>\n",
       "      <td>97</td>\n",
       "      <td>0</td>\n",
       "      <td>United States</td>\n",
       "      <td>219</td>\n",
       "      <td>0</td>\n",
       "    </tr>\n",
       "  </tbody>\n",
       "</table>\n",
       "</div>"
      ],
      "text/plain": [
       "   uid  number_of_customer_support_cases  is_newsletter_subscriber  \\\n",
       "0    5                                 0                         1   \n",
       "1   16                                 0                         1   \n",
       "2   37                                 0                         0   \n",
       "3   55                                 0                         1   \n",
       "4   80                                 0                         0   \n",
       "\n",
       "   apparel_purchased  accessories_purchased  ecom_limited_edition_purchased  \\\n",
       "0                  0                      0                               0   \n",
       "1                  0                      0                               0   \n",
       "2                  1                      1                               0   \n",
       "3                  0                      0                               0   \n",
       "4                  0                      0                               0   \n",
       "\n",
       "   is_subscribed_to_cyclon  total_revenue  quantity_rma        country  \\\n",
       "0                        0            282             0  United States   \n",
       "1                        0            270             0  United States   \n",
       "2                        0            581             0      Australia   \n",
       "3                        0            107             0          Japan   \n",
       "4                        0             97             0  United States   \n",
       "\n",
       "   days_since_last_purchase  repurchased  \n",
       "0                        46            1  \n",
       "1                        29            1  \n",
       "2                        97            1  \n",
       "3                       218            0  \n",
       "4                       219            0  "
      ]
     },
     "execution_count": 4,
     "metadata": {},
     "output_type": "execute_result"
    }
   ],
   "source": [
    "df.head()"
   ]
  },
  {
   "cell_type": "code",
   "execution_count": 5,
   "id": "27107d7b-1801-425d-8472-000951aed7e8",
   "metadata": {},
   "outputs": [
    {
     "data": {
      "text/html": [
       "<div>\n",
       "<style scoped>\n",
       "    .dataframe tbody tr th:only-of-type {\n",
       "        vertical-align: middle;\n",
       "    }\n",
       "\n",
       "    .dataframe tbody tr th {\n",
       "        vertical-align: top;\n",
       "    }\n",
       "\n",
       "    .dataframe thead th {\n",
       "        text-align: right;\n",
       "    }\n",
       "</style>\n",
       "<table border=\"1\" class=\"dataframe\">\n",
       "  <thead>\n",
       "    <tr style=\"text-align: right;\">\n",
       "      <th></th>\n",
       "      <th>uid</th>\n",
       "      <th>number_of_customer_support_cases</th>\n",
       "      <th>is_newsletter_subscriber</th>\n",
       "      <th>apparel_purchased</th>\n",
       "      <th>accessories_purchased</th>\n",
       "      <th>ecom_limited_edition_purchased</th>\n",
       "      <th>is_subscribed_to_cyclon</th>\n",
       "      <th>total_revenue</th>\n",
       "      <th>quantity_rma</th>\n",
       "      <th>country</th>\n",
       "      <th>days_since_last_purchase</th>\n",
       "      <th>repurchased</th>\n",
       "    </tr>\n",
       "  </thead>\n",
       "  <tbody>\n",
       "    <tr>\n",
       "      <th>9943</th>\n",
       "      <td>99976</td>\n",
       "      <td>4</td>\n",
       "      <td>1</td>\n",
       "      <td>0</td>\n",
       "      <td>0</td>\n",
       "      <td>0</td>\n",
       "      <td>0</td>\n",
       "      <td>388</td>\n",
       "      <td>0</td>\n",
       "      <td>Other Ecom EU</td>\n",
       "      <td>777</td>\n",
       "      <td>1</td>\n",
       "    </tr>\n",
       "    <tr>\n",
       "      <th>9944</th>\n",
       "      <td>99977</td>\n",
       "      <td>2</td>\n",
       "      <td>1</td>\n",
       "      <td>0</td>\n",
       "      <td>0</td>\n",
       "      <td>0</td>\n",
       "      <td>0</td>\n",
       "      <td>692</td>\n",
       "      <td>0</td>\n",
       "      <td>United States</td>\n",
       "      <td>124</td>\n",
       "      <td>1</td>\n",
       "    </tr>\n",
       "    <tr>\n",
       "      <th>9945</th>\n",
       "      <td>99987</td>\n",
       "      <td>1</td>\n",
       "      <td>0</td>\n",
       "      <td>1</td>\n",
       "      <td>1</td>\n",
       "      <td>0</td>\n",
       "      <td>0</td>\n",
       "      <td>436</td>\n",
       "      <td>2</td>\n",
       "      <td>United Kingdom</td>\n",
       "      <td>306</td>\n",
       "      <td>1</td>\n",
       "    </tr>\n",
       "    <tr>\n",
       "      <th>9946</th>\n",
       "      <td>99989</td>\n",
       "      <td>0</td>\n",
       "      <td>1</td>\n",
       "      <td>0</td>\n",
       "      <td>0</td>\n",
       "      <td>0</td>\n",
       "      <td>0</td>\n",
       "      <td>308</td>\n",
       "      <td>0</td>\n",
       "      <td>United States</td>\n",
       "      <td>18</td>\n",
       "      <td>1</td>\n",
       "    </tr>\n",
       "    <tr>\n",
       "      <th>9947</th>\n",
       "      <td>99995</td>\n",
       "      <td>1</td>\n",
       "      <td>0</td>\n",
       "      <td>0</td>\n",
       "      <td>0</td>\n",
       "      <td>0</td>\n",
       "      <td>0</td>\n",
       "      <td>231</td>\n",
       "      <td>0</td>\n",
       "      <td>United Kingdom</td>\n",
       "      <td>23</td>\n",
       "      <td>1</td>\n",
       "    </tr>\n",
       "  </tbody>\n",
       "</table>\n",
       "</div>"
      ],
      "text/plain": [
       "        uid  number_of_customer_support_cases  is_newsletter_subscriber  \\\n",
       "9943  99976                                 4                         1   \n",
       "9944  99977                                 2                         1   \n",
       "9945  99987                                 1                         0   \n",
       "9946  99989                                 0                         1   \n",
       "9947  99995                                 1                         0   \n",
       "\n",
       "      apparel_purchased  accessories_purchased  \\\n",
       "9943                  0                      0   \n",
       "9944                  0                      0   \n",
       "9945                  1                      1   \n",
       "9946                  0                      0   \n",
       "9947                  0                      0   \n",
       "\n",
       "      ecom_limited_edition_purchased  is_subscribed_to_cyclon  total_revenue  \\\n",
       "9943                               0                        0            388   \n",
       "9944                               0                        0            692   \n",
       "9945                               0                        0            436   \n",
       "9946                               0                        0            308   \n",
       "9947                               0                        0            231   \n",
       "\n",
       "      quantity_rma         country  days_since_last_purchase  repurchased  \n",
       "9943             0   Other Ecom EU                       777            1  \n",
       "9944             0   United States                       124            1  \n",
       "9945             2  United Kingdom                       306            1  \n",
       "9946             0   United States                        18            1  \n",
       "9947             0  United Kingdom                        23            1  "
      ]
     },
     "execution_count": 5,
     "metadata": {},
     "output_type": "execute_result"
    }
   ],
   "source": [
    "df.tail()"
   ]
  },
  {
   "cell_type": "markdown",
   "id": "ec4544f2-8b80-448d-b178-e6c4d20f7d10",
   "metadata": {},
   "source": [
    "## Data Preprocessing"
   ]
  },
  {
   "cell_type": "markdown",
   "id": "64085eed-59f3-4902-85c1-d8d419c8c886",
   "metadata": {},
   "source": [
    "### 1. Handinling Missing Values \n"
   ]
  },
  {
   "cell_type": "code",
   "execution_count": 6,
   "id": "d2784561-939f-4eee-8cc2-ccd17393e0ad",
   "metadata": {},
   "outputs": [
    {
     "name": "stdout",
     "output_type": "stream",
     "text": [
      "uid                                  0\n",
      "number_of_customer_support_cases     0\n",
      "is_newsletter_subscriber             0\n",
      "apparel_purchased                    0\n",
      "accessories_purchased                0\n",
      "ecom_limited_edition_purchased       0\n",
      "is_subscribed_to_cyclon              0\n",
      "total_revenue                        0\n",
      "quantity_rma                         0\n",
      "country                             12\n",
      "days_since_last_purchase             0\n",
      "repurchased                          0\n",
      "dtype: int64\n"
     ]
    }
   ],
   "source": [
    "print(df.isnull().sum())"
   ]
  },
  {
   "cell_type": "markdown",
   "id": "223bb8da-1df8-410e-b77e-4d52c6fb1516",
   "metadata": {},
   "source": [
    "country column has 12 missing values, while the rest of the columns have none. Nex step filling the missing values."
   ]
  },
  {
   "cell_type": "code",
   "execution_count": 7,
   "id": "50d32e05-efda-4b9f-8710-e3f71478312a",
   "metadata": {},
   "outputs": [],
   "source": [
    "df.fillna(value=0, inplace=True)"
   ]
  },
  {
   "cell_type": "code",
   "execution_count": 8,
   "id": "b17cbcb7-d966-4e62-b86b-22b7e61418b4",
   "metadata": {},
   "outputs": [
    {
     "name": "stdout",
     "output_type": "stream",
     "text": [
      "uid                                 0\n",
      "number_of_customer_support_cases    0\n",
      "is_newsletter_subscriber            0\n",
      "apparel_purchased                   0\n",
      "accessories_purchased               0\n",
      "ecom_limited_edition_purchased      0\n",
      "is_subscribed_to_cyclon             0\n",
      "total_revenue                       0\n",
      "quantity_rma                        0\n",
      "country                             0\n",
      "days_since_last_purchase            0\n",
      "repurchased                         0\n",
      "dtype: int64\n"
     ]
    }
   ],
   "source": [
    "print(df.isnull().sum())"
   ]
  },
  {
   "cell_type": "markdown",
   "id": "f5c5c626-33d6-4eb8-bc2f-7b945e0db268",
   "metadata": {},
   "source": [
    "Now there is no missing values for every column."
   ]
  },
  {
   "cell_type": "markdown",
   "id": "307eceaa-8e57-442b-89bc-cab54b29bb5d",
   "metadata": {},
   "source": [
    "### 2. Exploratory Data Analysis (EDA) "
   ]
  },
  {
   "cell_type": "code",
   "execution_count": 9,
   "id": "63c87c7b-6abe-4e2f-9e72-31db55bf1896",
   "metadata": {},
   "outputs": [
    {
     "data": {
      "text/plain": [
       "uid                                  int64\n",
       "number_of_customer_support_cases     int64\n",
       "is_newsletter_subscriber             int64\n",
       "apparel_purchased                    int64\n",
       "accessories_purchased                int64\n",
       "ecom_limited_edition_purchased       int64\n",
       "is_subscribed_to_cyclon              int64\n",
       "total_revenue                        int64\n",
       "quantity_rma                         int64\n",
       "country                             object\n",
       "days_since_last_purchase             int64\n",
       "repurchased                          int64\n",
       "dtype: object"
      ]
     },
     "execution_count": 9,
     "metadata": {},
     "output_type": "execute_result"
    }
   ],
   "source": [
    "df.dtypes"
   ]
  },
  {
   "cell_type": "markdown",
   "id": "c0799fd9-04c5-4e54-948e-4494043a0d6a",
   "metadata": {},
   "source": [
    "There are object data types present so later on we would conver them to numberical values for ML training model."
   ]
  },
  {
   "cell_type": "code",
   "execution_count": 10,
   "id": "877f0831-22e8-482a-ae2f-afc5255b7f89",
   "metadata": {},
   "outputs": [
    {
     "name": "stdout",
     "output_type": "stream",
     "text": [
      "['United States' 'Australia' 'Japan' 'Germany' 'Switzerland' 'Canada'\n",
      " 'BeNe' 'Brazil' 'United Kingdom' 'France' 'Other Ecom EU' 'Sweden'\n",
      " 'Austria' 'Norway' 'Distributors EU' 'Distributors APAC' 'Spain' 'Italy'\n",
      " 'China' 0 'Denmark' 'Hong Kong' 'Distributors ROW' 'Other Ecom APAC'\n",
      " 'Other Ecom ROW']\n"
     ]
    }
   ],
   "source": [
    " #Unique values in categorical columns\n",
    "\n",
    "print(df['country'].unique())"
   ]
  },
  {
   "cell_type": "code",
   "execution_count": 11,
   "id": "9ecf0e85-d9ef-4239-aafc-17a0823019dd",
   "metadata": {},
   "outputs": [
    {
     "name": "stdout",
     "output_type": "stream",
     "text": [
      "country\n",
      "United States        6735\n",
      "Germany              1101\n",
      "United Kingdom        603\n",
      "Switzerland           331\n",
      "Canada                250\n",
      "Austria               169\n",
      "Japan                 152\n",
      "Brazil                108\n",
      "France                 92\n",
      "Australia              90\n",
      "Spain                  56\n",
      "BeNe                   54\n",
      "Italy                  46\n",
      "Distributors EU        31\n",
      "Distributors APAC      30\n",
      "China                  22\n",
      "Hong Kong              16\n",
      "Norway                 13\n",
      "0                      12\n",
      "Sweden                 11\n",
      "Other Ecom EU           9\n",
      "Denmark                 9\n",
      "Distributors ROW        4\n",
      "Other Ecom APAC         2\n",
      "Other Ecom ROW          2\n",
      "Name: count, dtype: int64\n"
     ]
    }
   ],
   "source": [
    "print(df['country'].value_counts())"
   ]
  },
  {
   "cell_type": "markdown",
   "id": "93a2e91d-a751-45d7-a6f1-a142864e5f1e",
   "metadata": {},
   "source": [
    "Top Countries by Customer Count:\n",
    "United States: 6735 customers\n",
    "Germany: 1101 customers\n",
    "United Kingdom: 603 customers\n",
    "Switzerland: 331 customers\n",
    "Canada: 250 customers"
   ]
  },
  {
   "cell_type": "code",
   "execution_count": 12,
   "id": "b3a3467e-58e6-49f1-90b0-8f984d296595",
   "metadata": {},
   "outputs": [
    {
     "name": "stderr",
     "output_type": "stream",
     "text": [
      "C:\\Users\\MELDA\\AppData\\Local\\Temp\\ipykernel_10448\\1849464894.py:4: FutureWarning: \n",
      "\n",
      "The `ci` parameter is deprecated. Use `errorbar=None` for the same effect.\n",
      "\n",
      "  sns.barplot(x='country', y='total_revenue', data=df, estimator=sum, ci=None)\n"
     ]
    },
    {
     "data": {
      "image/png": "[encoded data removed]",
      "text/plain": [
       "<Figure size 1000x600 with 1 Axes>"
      ]
     },
     "metadata": {},
     "output_type": "display_data"
    }
   ],
   "source": [
    "import seaborn as sns\n",
    "\n",
    "plt.figure(figsize=(10, 6))\n",
    "sns.barplot(x='country', y='total_revenue', data=df, estimator=sum, ci=None)\n",
    "plt.title('Total Revenue by Country')\n",
    "plt.xlabel('Country')\n",
    "plt.ylabel('Total Revenue')\n",
    "plt.xticks(rotation=45)\n",
    "plt.show()"
   ]
  },
  {
   "cell_type": "markdown",
   "id": "94ac4cc8-4dcb-4c1b-a1c1-e40aa3ce85c6",
   "metadata": {},
   "source": [
    "The observation that the USA, Germany, and the UK have higher total revenue compared to other countries, with the USA leading and Germany having nearly half the revenue of the USA, can provide several insights and implications for customer repurchasing behavior.\n",
    "\n",
    "#### Key Insights:\n",
    "\n",
    "- USA: Highest total revenue, indicating a large and potentially highly engaged customer base.\n",
    "- Germany: Significant total revenue but nearly half that of the USA, suggesting a smaller or less active customer base compared to the USA.\n",
    "- UK: High total revenue, indicating a strong market presence.\n",
    "- Other Countries: Lower total revenue, implying less market penetration or engagement.\n",
    "\n",
    "#### Implications for Repurchasing Behavior:\n",
    "\n",
    "#####  USA:\n",
    "\n",
    "High total revenue suggests a large, engaged customer base with potentially high repurchase rates.\n",
    "Marketing efforts can focus on maintaining high engagement through personalized offers and loyalty programs.\n",
    "\n",
    "##### Germany:\n",
    "\n",
    "Lower total revenue compared to the USA, despite being a high-revenue country, may indicate opportunities to boost repurchasing.\n",
    "Strategies could include enhancing customer experience, addressing potential barriers to repurchasing, and offering targeted promotions.\n",
    "\n",
    "##### UK:\n",
    "\n",
    "Strong total revenue indicates a valuable market.\n",
    "Similar strategies to the USA can be applied, focusing on sustaining customer engagement and exploring new growth opportunities.\n",
    "\n",
    "##### Other Countries:\n",
    "\n",
    "Lower total revenue implies limited market penetration or engagement.\n",
    "Efforts could focus on market expansion, understanding local preferences, and improving product offerings."
   ]
  },
  {
   "cell_type": "markdown",
   "id": "cf1b331e-5f07-4bff-bdbd-1ad67e3d9099",
   "metadata": {},
   "source": [
    "### Investigating Patterns via Plots"
   ]
  },
  {
   "cell_type": "code",
   "execution_count": 13,
   "id": "fb84b875-b6e9-413f-aca1-92f29a81d48a",
   "metadata": {},
   "outputs": [
    {
     "data": {
      "image/png": "[encoded data removed]",
      "text/plain": [
       "<Figure size 1000x600 with 1 Axes>"
      ]
     },
     "metadata": {},
     "output_type": "display_data"
    }
   ],
   "source": [
    "plt.figure(figsize=(10, 6))\n",
    "plt.scatter(df['days_since_last_purchase'], df['total_revenue'], alpha=0.5)\n",
    "plt.title('Scatter Plot of Total Revenue vs. Days Since Last Purchase')\n",
    "plt.xlabel('Days Since Last Purchase')\n",
    "plt.ylabel('Total Revenue')\n",
    "plt.ylim(0, 50000)  \n",
    "plt.show()"
   ]
  },
  {
   "cell_type": "markdown",
   "id": "46b753c0-6dc6-4ed4-a4b1-215ebfad06c0",
   "metadata": {},
   "source": [
    "This scatter plot helps you visually explore the relationship between the time since a customer's last purchase and the total revenue they've generated. We can observe some outlayers starting from 20000 and 50000.There is not a strong relationship between customer's last purchases an the total revenue.\n"
   ]
  },
  {
   "cell_type": "markdown",
   "id": "6ed2302d-63f2-411d-8cad-9edcef99a856",
   "metadata": {},
   "source": [
    "## Correlation Analysis:"
   ]
  },
  {
   "cell_type": "markdown",
   "id": "1d1603c6-9dd6-42cb-8137-aa268c0722ff",
   "metadata": {},
   "source": [
    "#### Based on Total Revenue"
   ]
  },
  {
   "cell_type": "code",
   "execution_count": 14,
   "id": "81ee6951-b7b5-4099-bbd3-de15d60308bd",
   "metadata": {
    "scrolled": true
   },
   "outputs": [
    {
     "name": "stdout",
     "output_type": "stream",
     "text": [
      "Correlation coefficient between days_since_last_purchase and total_revenue: -0.07072333933490267\n"
     ]
    }
   ],
   "source": [
    "correlation = df['days_since_last_purchase'].corr(df['total_revenue'])\n",
    "print(f\"Correlation coefficient between days_since_last_purchase and total_revenue: {correlation}\")"
   ]
  },
  {
   "cell_type": "markdown",
   "id": "bafdeac9-048b-45c7-8dab-b241d25ff1c2",
   "metadata": {},
   "source": [
    "The correlation coefficient of -0.0707 indicates a very weak negative relationship between days_since_last_purchase and total_revenue. This means that, generally, as the number of days since the last purchase increases, the total revenue slightly decreases, but the relationship is very weak and almost negligible."
   ]
  },
  {
   "cell_type": "code",
   "execution_count": 15,
   "id": "d9cd8dd3-0b95-4dda-979a-18ce25821566",
   "metadata": {},
   "outputs": [
    {
     "name": "stdout",
     "output_type": "stream",
     "text": [
      "Correlation coefficient between ecom_limited_edition_purchased and total_revenue: 0.156634672550313\n"
     ]
    }
   ],
   "source": [
    "correlation = df['ecom_limited_edition_purchased'].corr(df['total_revenue'])\n",
    "print(f\"Correlation coefficient between ecom_limited_edition_purchased and total_revenue: {correlation}\")"
   ]
  },
  {
   "cell_type": "markdown",
   "id": "ada158e2-514b-4950-9583-d61b175b7ba2",
   "metadata": {},
   "source": [
    "The correlation coefficient of 0.157 suggests a weak positive relationship between the variables. This means that as ecom_limited_edition_purchased increases, total_revenue tends to increase slightly, but the relationship is not very strong."
   ]
  },
  {
   "cell_type": "code",
   "execution_count": 16,
   "id": "a7d7008b-b8f0-47d9-9382-3126b04d2202",
   "metadata": {
    "scrolled": true
   },
   "outputs": [
    {
     "name": "stdout",
     "output_type": "stream",
     "text": [
      "Correlation coefficient between is_subscribed_to_cyclon and total_revenue: 0.006580243921779357\n"
     ]
    }
   ],
   "source": [
    "correlation = df['is_subscribed_to_cyclon'].corr(df['total_revenue'])\n",
    "print(f\"Correlation coefficient between is_subscribed_to_cyclon and total_revenue: {correlation}\")"
   ]
  },
  {
   "cell_type": "markdown",
   "id": "2dadaca3-4228-49fa-9965-b861bfa0db4d",
   "metadata": {},
   "source": [
    "A correlation coefficient of 0.007 suggests an extremely weak positive relationship between the variables. This means that there is almost no linear relationship between whether a customer is subscribed to Cyclon and the total revenue they generate."
   ]
  },
  {
   "cell_type": "markdown",
   "id": "fa915b93-ad91-41b3-8666-883a4df19bac",
   "metadata": {},
   "source": [
    "#### Based on repurchased"
   ]
  },
  {
   "cell_type": "code",
   "execution_count": 17,
   "id": "f7795b38-9a44-47b1-b954-4db5e675ff35",
   "metadata": {},
   "outputs": [
    {
     "name": "stdout",
     "output_type": "stream",
     "text": [
      "Correlation coefficient between ecom_limited_edition_purchased and repurchased: 0.12546612132364088\n"
     ]
    }
   ],
   "source": [
    "correlation = df['ecom_limited_edition_purchased'].corr(df['repurchased'])\n",
    "print(f\"Correlation coefficient between ecom_limited_edition_purchased and repurchased: {correlation}\")"
   ]
  },
  {
   "cell_type": "markdown",
   "id": "259e0647-a7aa-4b36-b4af-9fdfd9bd62dd",
   "metadata": {},
   "source": [
    "The correlation coefficient of 0.12546612132364088 suggests a weak positive relationship between ecom_limited_edition_purchased and repurchased. While there is some positive association, it is not strong enough to be considered a reliable predictor of repurchase behavior on its own."
   ]
  },
  {
   "cell_type": "code",
   "execution_count": 18,
   "id": "ae7b2312-00de-4f44-b8a3-200a75c709bc",
   "metadata": {},
   "outputs": [
    {
     "name": "stdout",
     "output_type": "stream",
     "text": [
      "Correlation coefficient between days_since_last_purchase and repurchased: -0.2005393424384467\n"
     ]
    }
   ],
   "source": [
    "correlation = df['days_since_last_purchase'].corr(df['repurchased'])\n",
    "print(f\"Correlation coefficient between days_since_last_purchase and repurchased: {correlation}\")"
   ]
  },
  {
   "cell_type": "markdown",
   "id": "c577fcfa-a50e-4683-ad95-797cf2c307b0",
   "metadata": {},
   "source": [
    "The correlation coefficient of -0.2005393424384467 suggests a weak negative relationship between days_since_last_purchase and repurchased. While there is some negative association, it is not strong enough to be considered a reliable predictor of repurchase behavior on its own."
   ]
  },
  {
   "cell_type": "code",
   "execution_count": 19,
   "id": "8e80395c-5d7a-4e91-a60b-f19fbefaf8b4",
   "metadata": {},
   "outputs": [
    {
     "name": "stdout",
     "output_type": "stream",
     "text": [
      "Correlation coefficient between is_subscribed_to_cyclon and repurchased: 0.014372790328953272\n"
     ]
    }
   ],
   "source": [
    "correlation = df['is_subscribed_to_cyclon'].corr(df['repurchased'])\n",
    "print(f\"Correlation coefficient between is_subscribed_to_cyclon and repurchased: {correlation}\")"
   ]
  },
  {
   "cell_type": "markdown",
   "id": "c956c77d-6559-4be5-af20-ae62be0a6170",
   "metadata": {},
   "source": [
    "The correlation coefficient of 0.014372790328953272 suggests a very weak positive relationship between is_subscribed_to_cyclon and repurchased.is value is close to zero, indicating that there is essentially no meaningful linear relationship between these two variables."
   ]
  },
  {
   "cell_type": "markdown",
   "id": "138fff45-b244-47ed-afab-391e110c5661",
   "metadata": {},
   "source": [
    "Lets test our hypothesis that is subscribers tend to be more loyal customers to the brand (is_newsletter_subscriber)."
   ]
  },
  {
   "cell_type": "markdown",
   "id": "00155ec5-59f2-407c-af54-4db58041ab81",
   "metadata": {},
   "source": [
    "## Hypothesis Testing"
   ]
  },
  {
   "cell_type": "markdown",
   "id": "8301c838-621b-4284-9d1d-2631d4d1ac9f",
   "metadata": {},
   "source": [
    "Hypothesis Testing Framework\n",
    "Null Hypothesis (H0): There is no difference in repurchase rates between newsletter subscribers and non-subscribers.\n",
    "Alternative Hypothesis (H1): Newsletter subscribers have a higher repurchase rate compared to non-subscribers."
   ]
  },
  {
   "cell_type": "code",
   "execution_count": 20,
   "id": "d071f885-f99b-4dea-a6a7-5350eb61c8ed",
   "metadata": {},
   "outputs": [
    {
     "name": "stdout",
     "output_type": "stream",
     "text": [
      "repurchased                  0     1\n",
      "is_newsletter_subscriber            \n",
      "0                         3098  2352\n",
      "1                         1943  2555\n"
     ]
    }
   ],
   "source": [
    "# Creating a contingency table\n",
    "\n",
    "contingency_table = pd.crosstab(df['is_newsletter_subscriber'], df['repurchased'])\n",
    "\n",
    "# Displaying the contingency table\n",
    "\n",
    "print(contingency_table)"
   ]
  },
  {
   "cell_type": "markdown",
   "id": "463a72cd-fd56-4bc0-87aa-02a844d29bcd",
   "metadata": {},
   "source": [
    "####  The table just above represents the counts of individuals based on their newsletter subscription status:\n",
    "\n",
    "\n",
    "#####  0:     Indicates individuals who are not newsletter subscribers.\n",
    "\n",
    "#####  1:     Indicates individuals who are newsletter subscribers.\n",
    "\n",
    "##### 3098: Individuals who are not newsletter subscribers (is_newsletter_subscriber = 0) and also not repurchased (repurchased = 0).\n",
    "\n",
    "##### 2352: Individuals who are not newsletter subscribers (is_newsletter_subscriber = 0) and have repurchased (repurchased = 1).\n",
    "\n",
    "##### 1943: Individuals who are newsletter subscribers (is_newsletter_subscriber = 1) and have not repurchased (repurchased = 0).\n",
    "\n",
    "##### 2555: Individuals who are newsletter subscribers (is_newsletter_subscriber = 1) and have repurchased (repurchased = 1)."
   ]
  },
  {
   "cell_type": "code",
   "execution_count": 21,
   "id": "f3fdd20c-22dd-4658-8a60-d48882762b59",
   "metadata": {},
   "outputs": [
    {
     "name": "stdout",
     "output_type": "stream",
     "text": [
      "Chi-Square Statistic: 183.06478909927932\n",
      "P-Value: 1.0382046902962443e-41\n"
     ]
    }
   ],
   "source": [
    "from scipy.stats import chi2_contingency\n",
    "\n",
    "# Performing the chi-square test\n",
    "\n",
    "chi2, p, _, _ = chi2_contingency(contingency_table)\n",
    "\n",
    "print(f\"Chi-Square Statistic: {chi2}\")\n",
    "print(f\"P-Value: {p}\")"
   ]
  },
  {
   "cell_type": "markdown",
   "id": "c0814590-6a26-49b5-ac08-ff69b8d14902",
   "metadata": {},
   "source": [
    "- A very small p-value (typically less than 0.05) suggests strong evidence against the null hypothesis. In this case, the extremely small p-value (1.0382046902962443e-41) indicates that there is a significant association between newsletter subscription status and repurchase behavior."
   ]
  },
  {
   "cell_type": "markdown",
   "id": "b8a004e5-3ced-45ad-b2d9-c9bf24f58ce6",
   "metadata": {},
   "source": [
    "- Based on this result, the null hypothesis (which states no association) would be rejected and concluded that there is indeed a statistically significant association between being a newsletter subscriber and the likelihood of repurchasing."
   ]
  },
  {
   "cell_type": "markdown",
   "id": "df13856c-01c4-450a-bc24-5d48dfe19708",
   "metadata": {},
   "source": [
    "Before other steps and model predictions, we must transform the string data which are country names with encoder."
   ]
  },
  {
   "cell_type": "markdown",
   "id": "73b84df1-4a4a-4259-8fe1-f581a07edd75",
   "metadata": {},
   "source": [
    "##  Encoding Categorical Variables"
   ]
  },
  {
   "cell_type": "code",
   "execution_count": 22,
   "id": "6a628dcc-388e-4d3f-8664-11f92ebae4cb",
   "metadata": {},
   "outputs": [
    {
     "name": "stdout",
     "output_type": "stream",
     "text": [
      "uid                                 int64\n",
      "number_of_customer_support_cases    int32\n",
      "is_newsletter_subscriber            int64\n",
      "apparel_purchased                   int64\n",
      "accessories_purchased               int64\n",
      "ecom_limited_edition_purchased      int64\n",
      "is_subscribed_to_cyclon             int64\n",
      "total_revenue                       int32\n",
      "quantity_rma                        int32\n",
      "days_since_last_purchase            int32\n",
      "repurchased                         int64\n",
      "country_encoded                     int32\n",
      "dtype: object\n",
      "   uid  number_of_customer_support_cases  is_newsletter_subscriber  \\\n",
      "0    5                                 0                         1   \n",
      "1   16                                 0                         1   \n",
      "2   37                                 0                         0   \n",
      "3   55                                 0                         1   \n",
      "4   80                                 0                         0   \n",
      "\n",
      "   apparel_purchased  accessories_purchased  ecom_limited_edition_purchased  \\\n",
      "0                  0                      0                               0   \n",
      "1                  0                      0                               0   \n",
      "2                  1                      1                               0   \n",
      "3                  0                      0                               0   \n",
      "4                  0                      0                               0   \n",
      "\n",
      "   is_subscribed_to_cyclon  total_revenue  quantity_rma  \\\n",
      "0                        0            282             0   \n",
      "1                        0            270             0   \n",
      "2                        0            581             0   \n",
      "3                        0            107             0   \n",
      "4                        0             97             0   \n",
      "\n",
      "   days_since_last_purchase  repurchased  country_encoded  \n",
      "0                        46            1               23  \n",
      "1                        29            1               23  \n",
      "2                        97            1                0  \n",
      "3                       218            0               14  \n",
      "4                       219            0               23  \n"
     ]
    }
   ],
   "source": [
    "df = pd.read_csv('data_science_internship_assignment_input_data.csv') \n",
    "\n",
    "# Encoding categorical variables using LabelEncoder\n",
    "label_encoder = LabelEncoder()\n",
    "\n",
    "# Encoding  'country'\n",
    "df['country_encoded'] = label_encoder.fit_transform(df['country'])\n",
    "df.drop('country', axis=1, inplace=True)\n",
    "\n",
    "# Encoding 'is_subscribed_to_cyclon'\n",
    "df['is_subscribed_to_cyclon'] = label_encoder.fit_transform(df['is_subscribed_to_cyclon'])\n",
    "\n",
    "# Convert numerical columns to integers\n",
    "df['total_revenue'] = df['total_revenue'].astype(int)\n",
    "df['quantity_rma'] = df['quantity_rma'].astype(int)\n",
    "df['days_since_last_purchase'] = df['days_since_last_purchase'].astype(int)\n",
    "df['number_of_customer_support_cases'] = df['number_of_customer_support_cases'].astype(int)\n",
    "\n",
    "# Converting all remaining float columns to integers\n",
    "\n",
    "float_cols = df.select_dtypes(include=['float']).columns\n",
    "df[float_cols] = df[float_cols].astype(int)\n",
    "\n",
    "# Verifying the changes\n",
    "\n",
    "print(df.dtypes)\n",
    "print(df.head())"
   ]
  },
  {
   "cell_type": "code",
   "execution_count": 23,
   "id": "a093d42f-dd82-49ed-a2e4-70b6218e3294",
   "metadata": {},
   "outputs": [
    {
     "data": {
      "text/html": [
       "<div>\n",
       "<style scoped>\n",
       "    .dataframe tbody tr th:only-of-type {\n",
       "        vertical-align: middle;\n",
       "    }\n",
       "\n",
       "    .dataframe tbody tr th {\n",
       "        vertical-align: top;\n",
       "    }\n",
       "\n",
       "    .dataframe thead th {\n",
       "        text-align: right;\n",
       "    }\n",
       "</style>\n",
       "<table border=\"1\" class=\"dataframe\">\n",
       "  <thead>\n",
       "    <tr style=\"text-align: right;\">\n",
       "      <th></th>\n",
       "      <th>uid</th>\n",
       "      <th>number_of_customer_support_cases</th>\n",
       "      <th>is_newsletter_subscriber</th>\n",
       "      <th>apparel_purchased</th>\n",
       "      <th>accessories_purchased</th>\n",
       "      <th>ecom_limited_edition_purchased</th>\n",
       "      <th>is_subscribed_to_cyclon</th>\n",
       "      <th>total_revenue</th>\n",
       "      <th>quantity_rma</th>\n",
       "      <th>days_since_last_purchase</th>\n",
       "      <th>repurchased</th>\n",
       "      <th>country_encoded</th>\n",
       "    </tr>\n",
       "  </thead>\n",
       "  <tbody>\n",
       "    <tr>\n",
       "      <th>0</th>\n",
       "      <td>5</td>\n",
       "      <td>0</td>\n",
       "      <td>1</td>\n",
       "      <td>0</td>\n",
       "      <td>0</td>\n",
       "      <td>0</td>\n",
       "      <td>0</td>\n",
       "      <td>282</td>\n",
       "      <td>0</td>\n",
       "      <td>46</td>\n",
       "      <td>1</td>\n",
       "      <td>23</td>\n",
       "    </tr>\n",
       "    <tr>\n",
       "      <th>1</th>\n",
       "      <td>16</td>\n",
       "      <td>0</td>\n",
       "      <td>1</td>\n",
       "      <td>0</td>\n",
       "      <td>0</td>\n",
       "      <td>0</td>\n",
       "      <td>0</td>\n",
       "      <td>270</td>\n",
       "      <td>0</td>\n",
       "      <td>29</td>\n",
       "      <td>1</td>\n",
       "      <td>23</td>\n",
       "    </tr>\n",
       "    <tr>\n",
       "      <th>2</th>\n",
       "      <td>37</td>\n",
       "      <td>0</td>\n",
       "      <td>0</td>\n",
       "      <td>1</td>\n",
       "      <td>1</td>\n",
       "      <td>0</td>\n",
       "      <td>0</td>\n",
       "      <td>581</td>\n",
       "      <td>0</td>\n",
       "      <td>97</td>\n",
       "      <td>1</td>\n",
       "      <td>0</td>\n",
       "    </tr>\n",
       "    <tr>\n",
       "      <th>3</th>\n",
       "      <td>55</td>\n",
       "      <td>0</td>\n",
       "      <td>1</td>\n",
       "      <td>0</td>\n",
       "      <td>0</td>\n",
       "      <td>0</td>\n",
       "      <td>0</td>\n",
       "      <td>107</td>\n",
       "      <td>0</td>\n",
       "      <td>218</td>\n",
       "      <td>0</td>\n",
       "      <td>14</td>\n",
       "    </tr>\n",
       "    <tr>\n",
       "      <th>4</th>\n",
       "      <td>80</td>\n",
       "      <td>0</td>\n",
       "      <td>0</td>\n",
       "      <td>0</td>\n",
       "      <td>0</td>\n",
       "      <td>0</td>\n",
       "      <td>0</td>\n",
       "      <td>97</td>\n",
       "      <td>0</td>\n",
       "      <td>219</td>\n",
       "      <td>0</td>\n",
       "      <td>23</td>\n",
       "    </tr>\n",
       "    <tr>\n",
       "      <th>...</th>\n",
       "      <td>...</td>\n",
       "      <td>...</td>\n",
       "      <td>...</td>\n",
       "      <td>...</td>\n",
       "      <td>...</td>\n",
       "      <td>...</td>\n",
       "      <td>...</td>\n",
       "      <td>...</td>\n",
       "      <td>...</td>\n",
       "      <td>...</td>\n",
       "      <td>...</td>\n",
       "      <td>...</td>\n",
       "    </tr>\n",
       "    <tr>\n",
       "      <th>9943</th>\n",
       "      <td>99976</td>\n",
       "      <td>4</td>\n",
       "      <td>1</td>\n",
       "      <td>0</td>\n",
       "      <td>0</td>\n",
       "      <td>0</td>\n",
       "      <td>0</td>\n",
       "      <td>388</td>\n",
       "      <td>0</td>\n",
       "      <td>777</td>\n",
       "      <td>1</td>\n",
       "      <td>17</td>\n",
       "    </tr>\n",
       "    <tr>\n",
       "      <th>9944</th>\n",
       "      <td>99977</td>\n",
       "      <td>2</td>\n",
       "      <td>1</td>\n",
       "      <td>0</td>\n",
       "      <td>0</td>\n",
       "      <td>0</td>\n",
       "      <td>0</td>\n",
       "      <td>692</td>\n",
       "      <td>0</td>\n",
       "      <td>124</td>\n",
       "      <td>1</td>\n",
       "      <td>23</td>\n",
       "    </tr>\n",
       "    <tr>\n",
       "      <th>9945</th>\n",
       "      <td>99987</td>\n",
       "      <td>1</td>\n",
       "      <td>0</td>\n",
       "      <td>1</td>\n",
       "      <td>1</td>\n",
       "      <td>0</td>\n",
       "      <td>0</td>\n",
       "      <td>436</td>\n",
       "      <td>2</td>\n",
       "      <td>306</td>\n",
       "      <td>1</td>\n",
       "      <td>22</td>\n",
       "    </tr>\n",
       "    <tr>\n",
       "      <th>9946</th>\n",
       "      <td>99989</td>\n",
       "      <td>0</td>\n",
       "      <td>1</td>\n",
       "      <td>0</td>\n",
       "      <td>0</td>\n",
       "      <td>0</td>\n",
       "      <td>0</td>\n",
       "      <td>308</td>\n",
       "      <td>0</td>\n",
       "      <td>18</td>\n",
       "      <td>1</td>\n",
       "      <td>23</td>\n",
       "    </tr>\n",
       "    <tr>\n",
       "      <th>9947</th>\n",
       "      <td>99995</td>\n",
       "      <td>1</td>\n",
       "      <td>0</td>\n",
       "      <td>0</td>\n",
       "      <td>0</td>\n",
       "      <td>0</td>\n",
       "      <td>0</td>\n",
       "      <td>231</td>\n",
       "      <td>0</td>\n",
       "      <td>23</td>\n",
       "      <td>1</td>\n",
       "      <td>22</td>\n",
       "    </tr>\n",
       "  </tbody>\n",
       "</table>\n",
       "<p>9948 rows × 12 columns</p>\n",
       "</div>"
      ],
      "text/plain": [
       "        uid  number_of_customer_support_cases  is_newsletter_subscriber  \\\n",
       "0         5                                 0                         1   \n",
       "1        16                                 0                         1   \n",
       "2        37                                 0                         0   \n",
       "3        55                                 0                         1   \n",
       "4        80                                 0                         0   \n",
       "...     ...                               ...                       ...   \n",
       "9943  99976                                 4                         1   \n",
       "9944  99977                                 2                         1   \n",
       "9945  99987                                 1                         0   \n",
       "9946  99989                                 0                         1   \n",
       "9947  99995                                 1                         0   \n",
       "\n",
       "      apparel_purchased  accessories_purchased  \\\n",
       "0                     0                      0   \n",
       "1                     0                      0   \n",
       "2                     1                      1   \n",
       "3                     0                      0   \n",
       "4                     0                      0   \n",
       "...                 ...                    ...   \n",
       "9943                  0                      0   \n",
       "9944                  0                      0   \n",
       "9945                  1                      1   \n",
       "9946                  0                      0   \n",
       "9947                  0                      0   \n",
       "\n",
       "      ecom_limited_edition_purchased  is_subscribed_to_cyclon  total_revenue  \\\n",
       "0                                  0                        0            282   \n",
       "1                                  0                        0            270   \n",
       "2                                  0                        0            581   \n",
       "3                                  0                        0            107   \n",
       "4                                  0                        0             97   \n",
       "...                              ...                      ...            ...   \n",
       "9943                               0                        0            388   \n",
       "9944                               0                        0            692   \n",
       "9945                               0                        0            436   \n",
       "9946                               0                        0            308   \n",
       "9947                               0                        0            231   \n",
       "\n",
       "      quantity_rma  days_since_last_purchase  repurchased  country_encoded  \n",
       "0                0                        46            1               23  \n",
       "1                0                        29            1               23  \n",
       "2                0                        97            1                0  \n",
       "3                0                       218            0               14  \n",
       "4                0                       219            0               23  \n",
       "...            ...                       ...          ...              ...  \n",
       "9943             0                       777            1               17  \n",
       "9944             0                       124            1               23  \n",
       "9945             2                       306            1               22  \n",
       "9946             0                        18            1               23  \n",
       "9947             0                        23            1               22  \n",
       "\n",
       "[9948 rows x 12 columns]"
      ]
     },
     "execution_count": 23,
     "metadata": {},
     "output_type": "execute_result"
    }
   ],
   "source": [
    "df"
   ]
  },
  {
   "cell_type": "markdown",
   "id": "0bb05cbc-d2dc-409f-8710-5b2e469b643f",
   "metadata": {},
   "source": [
    "checking the columns as numbers."
   ]
  },
  {
   "cell_type": "code",
   "execution_count": 24,
   "id": "c61251da-0cc2-455d-8533-1d82e5251e2c",
   "metadata": {},
   "outputs": [
    {
     "name": "stderr",
     "output_type": "stream",
     "text": [
      "C:\\Users\\MELDA\\anaconda3\\Lib\\site-packages\\seaborn\\_oldcore.py:1119: FutureWarning: use_inf_as_na option is deprecated and will be removed in a future version. Convert inf values to NaN before operating instead.\n",
      "  with pd.option_context('mode.use_inf_as_na', True):\n"
     ]
    },
    {
     "data": {
      "image/png": "[encoded data removed]",
      "text/plain": [
       "<Figure size 800x600 with 1 Axes>"
      ]
     },
     "metadata": {},
     "output_type": "display_data"
    }
   ],
   "source": [
    "# Plot distribution of days since last purchase\n",
    "\n",
    "plt.figure(figsize=(8, 6))\n",
    "sns.histplot(df['days_since_last_purchase'], kde=True)\n",
    "plt.title('Distribution of Days Since Last Purchase')\n",
    "plt.xlabel('Days Since Last Purchase')\n",
    "plt.ylabel('Frequency')\n",
    "plt.show()"
   ]
  },
  {
   "cell_type": "markdown",
   "id": "dda35d6e-58e3-4d48-b02b-a1998a452966",
   "metadata": {},
   "source": [
    "- From the histogram above, there is a high long tail and is not perfectly normally distributed. This suggests a skewed distribution where most customers make purchases relatively frequently, but some have longer intervals between purchases.\n",
    "\n",
    "- After 500 days since the last purchase, there is a significant drop in the number of customers who make purchases. This could indicate a cutoff point where customer activity declines sharply, potentially suggesting a customer retention challenge after a certain period."
   ]
  },
  {
   "cell_type": "code",
   "execution_count": 25,
   "id": "8137b591-5b22-45ce-956e-e50e61ff1c04",
   "metadata": {},
   "outputs": [
    {
     "name": "stdout",
     "output_type": "stream",
     "text": [
      "Mode: 0\n",
      "Median: 0.0\n",
      "Standard Deviation: 0.49959983987187184\n"
     ]
    }
   ],
   "source": [
    "repurchased = np.random.randint(0, 2, size=1000) \n",
    "\n",
    "# Calculating mode, median, and standard deviation\n",
    "\n",
    "mode = pd.Series(repurchased).mode()[0]\n",
    "median = np.median(repurchased)\n",
    "std_dev = np.std(repurchased)\n",
    "\n",
    "print(f\"Mode: {mode}\")\n",
    "print(f\"Median: {median}\")\n",
    "print(f\"Standard Deviation: {std_dev}\")"
   ]
  },
  {
   "cell_type": "markdown",
   "id": "7fba758c-1b71-493e-bd22-14150dabe434",
   "metadata": {},
   "source": [
    "##### Mode: 0: \n",
    "This indicates that the most common value in the dataset is 0, which suggests that in this simulated dataset, more customers did not repurchase (represented as 0).\n",
    "\n",
    "##### Median: 0.0:\n",
    "The median value is 0.0, which means that half of the customers in the dataset did not repurchase.\n",
    "\n",
    "##### Standard Deviation: 0.4998999899979995:\n",
    "The standard deviation is approximately 0.5, indicating a moderate spread or variability in the repurchase status data. This means that while a majority did not repurchase (0), there is some variation around this central tendency."
   ]
  },
  {
   "cell_type": "code",
   "execution_count": 26,
   "id": "34b883ef-9046-4f70-9452-0ef378cfe44d",
   "metadata": {},
   "outputs": [
    {
     "data": {
      "image/png": "[encoded data removed]",
      "text/plain": [
       "<Figure size 800x600 with 1 Axes>"
      ]
     },
     "metadata": {},
     "output_type": "display_data"
    }
   ],
   "source": [
    "plt.figure(figsize=(8, 6))\n",
    "sns.countplot(x='repurchased', data=df)\n",
    "plt.title('Count Plot of Repurchased')\n",
    "plt.xlabel('Repurchased')\n",
    "plt.ylabel('Count')\n",
    "plt.show()"
   ]
  },
  {
   "cell_type": "markdown",
   "id": "c9ce6549-3794-4503-bd68-06ca5bdd1c50",
   "metadata": {},
   "source": [
    "- The plot indicates that the number of customers who repurchased is roughly equal between subscribers and non-subscribers. \n",
    "- This observation might suggest that subscription status (being a subscriber or non-subscriber) does not strongly influence whether customers make repeat purchases."
   ]
  },
  {
   "cell_type": "code",
   "execution_count": 27,
   "id": "928302e6-a065-4d05-a952-00b843abc077",
   "metadata": {},
   "outputs": [
    {
     "data": {
      "image/png": "[encoded data removed]",
      "text/plain": [
       "<Figure size 1000x800 with 2 Axes>"
      ]
     },
     "metadata": {},
     "output_type": "display_data"
    }
   ],
   "source": [
    "corr_matrix = df.corr()\n",
    "\n",
    "# Creating a heatmap with scores\n",
    "\n",
    "plt.figure(figsize=(10, 8))\n",
    "sns.heatmap(corr_matrix, annot=True, cmap='PiYG', fmt='.2f', linewidths=.5)\n",
    "plt.title('Correlation Matrix Heatmap with Scores')\n",
    "plt.show()"
   ]
  },
  {
   "cell_type": "markdown",
   "id": "c8d45fab-5045-4a9f-ae35-1dd9b6c1ab1a",
   "metadata": {},
   "source": [
    "## Model Training and Evaluation:"
   ]
  },
  {
   "cell_type": "code",
   "execution_count": 28,
   "id": "ef8ddfe6-82d7-4cae-8ab2-35d3e1c232cd",
   "metadata": {},
   "outputs": [],
   "source": [
    "X = df.drop(columns=['uid', 'repurchased'])  # Droping the unique identifier and target variable\n",
    "y = df['repurchased']"
   ]
  },
  {
   "cell_type": "markdown",
   "id": "b2848136-c7ae-42a9-b6e0-7cba32e3a9d0",
   "metadata": {},
   "source": [
    "##### Spliting data into training and testing sets: "
   ]
  },
  {
   "cell_type": "code",
   "execution_count": 29,
   "id": "1d3b53b2-159d-4cc5-8ce4-88af369de5ff",
   "metadata": {},
   "outputs": [],
   "source": [
    "from sklearn.model_selection import train_test_split\n",
    "\n",
    "X_train, X_test, y_train, y_test = train_test_split(X, y, test_size=0.2, random_state=42)"
   ]
  },
  {
   "cell_type": "markdown",
   "id": "07035a5a-40d7-4859-a2f9-e83c50ef4748",
   "metadata": {},
   "source": [
    "##### Training the model on the training set and evaluating on the testing set using metrics like accuracy, precision, recall, and F1-score: "
   ]
  },
  {
   "cell_type": "code",
   "execution_count": 30,
   "id": "747f07d3-ee2b-4e60-822a-84a55882b064",
   "metadata": {},
   "outputs": [
    {
     "data": {
      "text/html": [
       "<style>#sk-container-id-1 {color: black;background-color: white;}#sk-container-id-1 pre{padding: 0;}#sk-container-id-1 div.sk-toggleable {background-color: white;}#sk-container-id-1 label.sk-toggleable__label {cursor: pointer;display: block;width: 100%;margin-bottom: 0;padding: 0.3em;box-sizing: border-box;text-align: center;}#sk-container-id-1 label.sk-toggleable__label-arrow:before {content: \"▸\";float: left;margin-right: 0.25em;color: #696969;}#sk-container-id-1 label.sk-toggleable__label-arrow:hover:before {color: black;}#sk-container-id-1 div.sk-estimator:hover label.sk-toggleable__label-arrow:before {color: black;}#sk-container-id-1 div.sk-toggleable__content {max-height: 0;max-width: 0;overflow: hidden;text-align: left;background-color: #f0f8ff;}#sk-container-id-1 div.sk-toggleable__content pre {margin: 0.2em;color: black;border-radius: 0.25em;background-color: #f0f8ff;}#sk-container-id-1 input.sk-toggleable__control:checked~div.sk-toggleable__content {max-height: 200px;max-width: 100%;overflow: auto;}#sk-container-id-1 input.sk-toggleable__control:checked~label.sk-toggleable__label-arrow:before {content: \"▾\";}#sk-container-id-1 div.sk-estimator input.sk-toggleable__control:checked~label.sk-toggleable__label {background-color: #d4ebff;}#sk-container-id-1 div.sk-label input.sk-toggleable__control:checked~label.sk-toggleable__label {background-color: #d4ebff;}#sk-container-id-1 input.sk-hidden--visually {border: 0;clip: rect(1px 1px 1px 1px);clip: rect(1px, 1px, 1px, 1px);height: 1px;margin: -1px;overflow: hidden;padding: 0;position: absolute;width: 1px;}#sk-container-id-1 div.sk-estimator {font-family: monospace;background-color: #f0f8ff;border: 1px dotted black;border-radius: 0.25em;box-sizing: border-box;margin-bottom: 0.5em;}#sk-container-id-1 div.sk-estimator:hover {background-color: #d4ebff;}#sk-container-id-1 div.sk-parallel-item::after {content: \"\";width: 100%;border-bottom: 1px solid gray;flex-grow: 1;}#sk-container-id-1 div.sk-label:hover label.sk-toggleable__label {background-color: #d4ebff;}#sk-container-id-1 div.sk-serial::before {content: \"\";position: absolute;border-left: 1px solid gray;box-sizing: border-box;top: 0;bottom: 0;left: 50%;z-index: 0;}#sk-container-id-1 div.sk-serial {display: flex;flex-direction: column;align-items: center;background-color: white;padding-right: 0.2em;padding-left: 0.2em;position: relative;}#sk-container-id-1 div.sk-item {position: relative;z-index: 1;}#sk-container-id-1 div.sk-parallel {display: flex;align-items: stretch;justify-content: center;background-color: white;position: relative;}#sk-container-id-1 div.sk-item::before, #sk-container-id-1 div.sk-parallel-item::before {content: \"\";position: absolute;border-left: 1px solid gray;box-sizing: border-box;top: 0;bottom: 0;left: 50%;z-index: -1;}#sk-container-id-1 div.sk-parallel-item {display: flex;flex-direction: column;z-index: 1;position: relative;background-color: white;}#sk-container-id-1 div.sk-parallel-item:first-child::after {align-self: flex-end;width: 50%;}#sk-container-id-1 div.sk-parallel-item:last-child::after {align-self: flex-start;width: 50%;}#sk-container-id-1 div.sk-parallel-item:only-child::after {width: 0;}#sk-container-id-1 div.sk-dashed-wrapped {border: 1px dashed gray;margin: 0 0.4em 0.5em 0.4em;box-sizing: border-box;padding-bottom: 0.4em;background-color: white;}#sk-container-id-1 div.sk-label label {font-family: monospace;font-weight: bold;display: inline-block;line-height: 1.2em;}#sk-container-id-1 div.sk-label-container {text-align: center;}#sk-container-id-1 div.sk-container {/* jupyter's `normalize.less` sets `[hidden] { display: none; }` but bootstrap.min.css set `[hidden] { display: none !important; }` so we also need the `!important` here to be able to override the default hidden behavior on the sphinx rendered scikit-learn.org. See: https://github.com/scikit-learn/scikit-learn/issues/21755 */display: inline-block !important;position: relative;}#sk-container-id-1 div.sk-text-repr-fallback {display: none;}</style><div id=\"sk-container-id-1\" class=\"sk-top-container\"><div class=\"sk-text-repr-fallback\"><pre>LogisticRegression(C=0.001, max_iter=1000, solver=&#x27;liblinear&#x27;)</pre><b>In a Jupyter environment, please rerun this cell to show the HTML representation or trust the notebook. <br />On GitHub, the HTML representation is unable to render, please try loading this page with nbviewer.org.</b></div><div class=\"sk-container\" hidden><div class=\"sk-item\"><div class=\"sk-estimator sk-toggleable\"><input class=\"sk-toggleable__control sk-hidden--visually\" id=\"sk-estimator-id-1\" type=\"checkbox\" checked><label for=\"sk-estimator-id-1\" class=\"sk-toggleable__label sk-toggleable__label-arrow\">LogisticRegression</label><div class=\"sk-toggleable__content\"><pre>LogisticRegression(C=0.001, max_iter=1000, solver=&#x27;liblinear&#x27;)</pre></div></div></div></div></div>"
      ],
      "text/plain": [
       "LogisticRegression(C=0.001, max_iter=1000, solver='liblinear')"
      ]
     },
     "execution_count": 30,
     "metadata": {},
     "output_type": "execute_result"
    }
   ],
   "source": [
    "from sklearn.linear_model import LogisticRegression\n",
    "from sklearn.metrics import classification_report, roc_auc_score\n",
    "\n",
    "# Initializing and training  a Logistic Regression model\n",
    "\n",
    "model = LogisticRegression(max_iter=1000, C=0.001, penalty='l2', solver='liblinear')\n",
    "model.fit(X_train, y_train)"
   ]
  },
  {
   "cell_type": "markdown",
   "id": "c6dbcb1b-c01f-414f-b502-e4dccf1a49ca",
   "metadata": {},
   "source": [
    "##### Model Performance Metrics:"
   ]
  },
  {
   "cell_type": "code",
   "execution_count": 31,
   "id": "13152ecf-358d-41af-b786-6c4bb92b2716",
   "metadata": {},
   "outputs": [
    {
     "name": "stdout",
     "output_type": "stream",
     "text": [
      "              precision    recall  f1-score   support\n",
      "\n",
      "           0       0.86      0.86      0.86       998\n",
      "           1       0.86      0.85      0.86       992\n",
      "\n",
      "    accuracy                           0.86      1990\n",
      "   macro avg       0.86      0.86      0.86      1990\n",
      "weighted avg       0.86      0.86      0.86      1990\n",
      "\n",
      "ROC AUC Score: 0.8592830822936195\n"
     ]
    }
   ],
   "source": [
    "# Predicting on test set and evaluation\n",
    "\n",
    "y_pred = model.predict(X_test)\n",
    "print(classification_report(y_test, y_pred))\n",
    "print(\"ROC AUC Score:\", roc_auc_score(y_test, y_pred))"
   ]
  },
  {
   "cell_type": "markdown",
   "id": "6274c30d-0ab3-43b3-933f-ef35db6bcbb8",
   "metadata": {},
   "source": [
    "- Class 0 (not repurchased)  indicates Class 1 (repurchased) of both class of customers.This model achieves balanced precision and recall scores across both classes (0 and 1), indicating effective classification performance.\n",
    "\n",
    "- The F1-score, which balances precision and recall, is also consistent at 0.86 for both classes. The ROC AUC score of 0.859 suggests that the model is reasonably good at distinguishing between customers who repurchase and those who do not.\n",
    "- Overall, these metrics collectively demonstrate that the model is performing well in predicting customer repurchases based on the provided data."
   ]
  },
  {
   "cell_type": "code",
   "execution_count": 32,
   "id": "528ce586-043d-458b-ba00-b4c1e4b45c6c",
   "metadata": {
    "scrolled": true
   },
   "outputs": [
    {
     "name": "stdout",
     "output_type": "stream",
     "text": [
      "Log Loss: 0.3270464840014065\n"
     ]
    }
   ],
   "source": [
    "from sklearn.metrics import log_loss\n",
    "\n",
    "logloss = log_loss(y_test, model.predict_proba(X_test))\n",
    "print(\"Log Loss:\", logloss)"
   ]
  },
  {
   "cell_type": "markdown",
   "id": "c8c59060-2047-4de2-8255-086dfd3bc287",
   "metadata": {},
   "source": [
    "A log loss of 0.327 indicates that your model is making good probability predictions, as it is relatively low. Lower values are better, and values close to 0 are ideal."
   ]
  },
  {
   "cell_type": "code",
   "execution_count": 33,
   "id": "2a3d870c-596b-4112-8a1f-d2c1c11adf6e",
   "metadata": {},
   "outputs": [
    {
     "name": "stdout",
     "output_type": "stream",
     "text": [
      "   uid  repurchase_probability\n",
      "0    5                0.614168\n",
      "1   16                0.584798\n",
      "2   37                0.998786\n",
      "3   55                0.295396\n",
      "4   80                0.110692\n"
     ]
    }
   ],
   "source": [
    "customer_probabilities = model.predict_proba(X)[:, 1]\n",
    "\n",
    "# Creating a DataFrame with customer IDs and their probability scores\n",
    "\n",
    "customer_likelihood_df = pd.DataFrame({\n",
    "    'uid': df['uid'],\n",
    "    'repurchase_probability': customer_probabilities\n",
    "})\n",
    "\n",
    "# Displaying the DataFrame\n",
    "\n",
    "print(customer_likelihood_df.head())"
   ]
  },
  {
   "cell_type": "markdown",
   "id": "e7aa55c7-9a53-43fb-9c06-d941a65c5070",
   "metadata": {},
   "source": [
    "##### Each customer (identified by their unique ID) making a repeat purchase. Here's what the provided example data means:\n",
    "\n",
    "-  uid 5 has  a  61.42% \n",
    "-  uid 16 has a 58.48% \n",
    "-  uid 37 has a 99.88%\n",
    "-  uid 55 has a 29.54% \n",
    "-  uid 80 has an 11.07% ,  probability of making a repeat purchase."
   ]
  },
  {
   "cell_type": "markdown",
   "id": "e03eeab2-f68e-45d7-a90a-58e136f5b0fa",
   "metadata": {},
   "source": [
    "## Further Steps and Approaches Suggestions:"
   ]
  },
  {
   "cell_type": "markdown",
   "id": "00898c6a-9cce-4de1-91bc-a7de53fea3e1",
   "metadata": {},
   "source": [
    "#### 1.Enhanced Feature Engineering:\n",
    "Integrating more customer behavior metrics and product details (e.g., purchase frequency, product preferences).\n",
    "\n",
    "#### 2.Advanced Modeling Techniques:\n",
    "Consider ensemble methods or neural networks for better predictive power (e.g., RandomForest, Gradient Boosting, Deep Learning).\n",
    "\n",
    "#### 3.Customer Segmentation:\n",
    "Use clustering to tailor strategies for different customer groups (e.g., RFM analysis, K-means clustering).\n",
    "\n",
    "#### 4. Predictive Analytics:\n",
    "Implementing time series analysis to forecast repurchase probabilities (e.g., ARIMA, Prophet).\n",
    "\n",
    "#### 5.Feedback Loop:\n",
    "Establishing a continuous feedback mechanism to refine strategies (e.g., customer surveys, A/B testing)."
   ]
  }
 ],
 "metadata": {
  "kernelspec": {
   "display_name": "Python 3 (ipykernel)",
   "language": "python",
   "name": "python3"
  },
  "language_info": {
   "codemirror_mode": {
    "name": "ipython",
    "version": 3
   },
   "file_extension": ".py",
   "mimetype": "text/x-python",
   "name": "python",
   "nbconvert_exporter": "python",
   "pygments_lexer": "ipython3",
   "version": "3.11.7"
  }
 },
 "nbformat": 4,
 "nbformat_minor": 5
}
